{
 "cells": [
  {
   "cell_type": "code",
   "execution_count": 81,
   "id": "cd8b2952",
   "metadata": {},
   "outputs": [],
   "source": [
    "import numpy as np\n",
    "import pandas as pd\n",
    "from sklearn.model_selection import train_test_split\n",
    "from sklearn import svm\n",
    "from sklearn.metrics import accuracy_score"
   ]
  },
  {
   "cell_type": "code",
   "execution_count": 82,
   "id": "84cf3ec0",
   "metadata": {
    "scrolled": true
   },
   "outputs": [],
   "source": [
    "obesity_prediction = pd.read_csv(r\"C:\\Users\\Smart AI Labs\\Desktop\\Obesity\\obesity_data.csv\")"
   ]
  },
  {
   "cell_type": "code",
   "execution_count": 83,
   "id": "b7fb7039",
   "metadata": {},
   "outputs": [
    {
     "data": {
      "text/html": [
       "<div>\n",
       "<style scoped>\n",
       "    .dataframe tbody tr th:only-of-type {\n",
       "        vertical-align: middle;\n",
       "    }\n",
       "\n",
       "    .dataframe tbody tr th {\n",
       "        vertical-align: top;\n",
       "    }\n",
       "\n",
       "    .dataframe thead th {\n",
       "        text-align: right;\n",
       "    }\n",
       "</style>\n",
       "<table border=\"1\" class=\"dataframe\">\n",
       "  <thead>\n",
       "    <tr style=\"text-align: right;\">\n",
       "      <th></th>\n",
       "      <th>Age</th>\n",
       "      <th>Gender</th>\n",
       "      <th>Height</th>\n",
       "      <th>Weight</th>\n",
       "      <th>BMI</th>\n",
       "      <th>PhysicalActivityLevel</th>\n",
       "      <th>ObesityCategory</th>\n",
       "    </tr>\n",
       "  </thead>\n",
       "  <tbody>\n",
       "    <tr>\n",
       "      <th>0</th>\n",
       "      <td>56</td>\n",
       "      <td>Male</td>\n",
       "      <td>173.575262</td>\n",
       "      <td>71.982051</td>\n",
       "      <td>23.891783</td>\n",
       "      <td>4</td>\n",
       "      <td>Normal weight</td>\n",
       "    </tr>\n",
       "    <tr>\n",
       "      <th>1</th>\n",
       "      <td>69</td>\n",
       "      <td>Male</td>\n",
       "      <td>164.127306</td>\n",
       "      <td>89.959256</td>\n",
       "      <td>33.395209</td>\n",
       "      <td>2</td>\n",
       "      <td>Obese</td>\n",
       "    </tr>\n",
       "    <tr>\n",
       "      <th>2</th>\n",
       "      <td>46</td>\n",
       "      <td>Female</td>\n",
       "      <td>168.072202</td>\n",
       "      <td>72.930629</td>\n",
       "      <td>25.817737</td>\n",
       "      <td>4</td>\n",
       "      <td>Overweight</td>\n",
       "    </tr>\n",
       "    <tr>\n",
       "      <th>3</th>\n",
       "      <td>32</td>\n",
       "      <td>Male</td>\n",
       "      <td>168.459633</td>\n",
       "      <td>84.886912</td>\n",
       "      <td>29.912247</td>\n",
       "      <td>3</td>\n",
       "      <td>Overweight</td>\n",
       "    </tr>\n",
       "    <tr>\n",
       "      <th>4</th>\n",
       "      <td>60</td>\n",
       "      <td>Male</td>\n",
       "      <td>183.568568</td>\n",
       "      <td>69.038945</td>\n",
       "      <td>20.487903</td>\n",
       "      <td>3</td>\n",
       "      <td>Normal weight</td>\n",
       "    </tr>\n",
       "    <tr>\n",
       "      <th>5</th>\n",
       "      <td>25</td>\n",
       "      <td>Female</td>\n",
       "      <td>166.405627</td>\n",
       "      <td>61.145868</td>\n",
       "      <td>22.081628</td>\n",
       "      <td>4</td>\n",
       "      <td>Normal weight</td>\n",
       "    </tr>\n",
       "    <tr>\n",
       "      <th>6</th>\n",
       "      <td>78</td>\n",
       "      <td>Male</td>\n",
       "      <td>183.566334</td>\n",
       "      <td>92.208521</td>\n",
       "      <td>27.364341</td>\n",
       "      <td>3</td>\n",
       "      <td>Overweight</td>\n",
       "    </tr>\n",
       "    <tr>\n",
       "      <th>7</th>\n",
       "      <td>38</td>\n",
       "      <td>Male</td>\n",
       "      <td>142.875095</td>\n",
       "      <td>59.359746</td>\n",
       "      <td>29.078966</td>\n",
       "      <td>1</td>\n",
       "      <td>Overweight</td>\n",
       "    </tr>\n",
       "    <tr>\n",
       "      <th>8</th>\n",
       "      <td>56</td>\n",
       "      <td>Male</td>\n",
       "      <td>183.478558</td>\n",
       "      <td>75.157672</td>\n",
       "      <td>22.325577</td>\n",
       "      <td>4</td>\n",
       "      <td>Normal weight</td>\n",
       "    </tr>\n",
       "    <tr>\n",
       "      <th>9</th>\n",
       "      <td>75</td>\n",
       "      <td>Male</td>\n",
       "      <td>182.974061</td>\n",
       "      <td>81.533460</td>\n",
       "      <td>24.353244</td>\n",
       "      <td>2</td>\n",
       "      <td>Normal weight</td>\n",
       "    </tr>\n",
       "    <tr>\n",
       "      <th>10</th>\n",
       "      <td>36</td>\n",
       "      <td>Male</td>\n",
       "      <td>179.022547</td>\n",
       "      <td>82.622391</td>\n",
       "      <td>25.779963</td>\n",
       "      <td>4</td>\n",
       "      <td>Overweight</td>\n",
       "    </tr>\n",
       "  </tbody>\n",
       "</table>\n",
       "</div>"
      ],
      "text/plain": [
       "    Age  Gender      Height     Weight        BMI  PhysicalActivityLevel  \\\n",
       "0    56    Male  173.575262  71.982051  23.891783                      4   \n",
       "1    69    Male  164.127306  89.959256  33.395209                      2   \n",
       "2    46  Female  168.072202  72.930629  25.817737                      4   \n",
       "3    32    Male  168.459633  84.886912  29.912247                      3   \n",
       "4    60    Male  183.568568  69.038945  20.487903                      3   \n",
       "5    25  Female  166.405627  61.145868  22.081628                      4   \n",
       "6    78    Male  183.566334  92.208521  27.364341                      3   \n",
       "7    38    Male  142.875095  59.359746  29.078966                      1   \n",
       "8    56    Male  183.478558  75.157672  22.325577                      4   \n",
       "9    75    Male  182.974061  81.533460  24.353244                      2   \n",
       "10   36    Male  179.022547  82.622391  25.779963                      4   \n",
       "\n",
       "   ObesityCategory  \n",
       "0    Normal weight  \n",
       "1            Obese  \n",
       "2       Overweight  \n",
       "3       Overweight  \n",
       "4    Normal weight  \n",
       "5    Normal weight  \n",
       "6       Overweight  \n",
       "7       Overweight  \n",
       "8    Normal weight  \n",
       "9    Normal weight  \n",
       "10      Overweight  "
      ]
     },
     "execution_count": 83,
     "metadata": {},
     "output_type": "execute_result"
    }
   ],
   "source": [
    "obesity_prediction.head(11)"
   ]
  },
  {
   "cell_type": "code",
   "execution_count": 84,
   "id": "2777f6c3",
   "metadata": {},
   "outputs": [
    {
     "data": {
      "text/plain": [
       "(1000, 7)"
      ]
     },
     "execution_count": 84,
     "metadata": {},
     "output_type": "execute_result"
    }
   ],
   "source": [
    "obesity_prediction.shape"
   ]
  },
  {
   "cell_type": "code",
   "execution_count": 85,
   "id": "27a4727a",
   "metadata": {},
   "outputs": [
    {
     "data": {
      "text/plain": [
       "Normal weight    371\n",
       "Overweight       295\n",
       "Obese            191\n",
       "Underweight      143\n",
       "Name: ObesityCategory, dtype: int64"
      ]
     },
     "execution_count": 85,
     "metadata": {},
     "output_type": "execute_result"
    }
   ],
   "source": [
    "obesity_prediction['ObesityCategory'].value_counts()"
   ]
  },
  {
   "cell_type": "code",
   "execution_count": 86,
   "id": "0de27229",
   "metadata": {},
   "outputs": [
    {
     "name": "stdout",
     "output_type": "stream",
     "text": [
      "1    523\n",
      "0    477\n",
      "Name: Gender, dtype: int64\n"
     ]
    }
   ],
   "source": [
    "obesity_prediction.groupby('ObesityCategory').mean()\n",
    "\n",
    "label_encode = {\"Gender\": {\"Male\":1,\"Female\":0}}\n",
    "obesity_prediction.replace(label_encode,inplace=True)\n",
    "print(obesity_prediction['Gender'].value_counts())"
   ]
  },
  {
   "cell_type": "code",
   "execution_count": 87,
   "id": "732c98ad",
   "metadata": {},
   "outputs": [
    {
     "name": "stdout",
     "output_type": "stream",
     "text": [
      "0    371\n",
      "2    295\n",
      "1    191\n",
      "3    143\n",
      "Name: ObesityCategory, dtype: int64\n"
     ]
    }
   ],
   "source": [
    "label_encode = {\"ObesityCategory\": {\"Normal weight\":0,\"Obese\":1,\"Overweight\":2,\"Underweight\":3}}\n",
    "obesity_prediction.replace(label_encode,inplace=True)\n",
    "print(obesity_prediction['ObesityCategory'].value_counts())"
   ]
  },
  {
   "cell_type": "code",
   "execution_count": 88,
   "id": "674a69df",
   "metadata": {},
   "outputs": [],
   "source": [
    "X = obesity_prediction.drop(columns = 'ObesityCategory', axis=1)\n",
    "Y = obesity_prediction['ObesityCategory']"
   ]
  },
  {
   "cell_type": "code",
   "execution_count": 89,
   "id": "40cc4f45",
   "metadata": {},
   "outputs": [
    {
     "name": "stdout",
     "output_type": "stream",
     "text": [
      "     Age  Gender      Height     Weight        BMI  PhysicalActivityLevel\n",
      "0     56       1  173.575262  71.982051  23.891783                      4\n",
      "1     69       1  164.127306  89.959256  33.395209                      2\n",
      "2     46       0  168.072202  72.930629  25.817737                      4\n",
      "3     32       1  168.459633  84.886912  29.912247                      3\n",
      "4     60       1  183.568568  69.038945  20.487903                      3\n",
      "..   ...     ...         ...        ...        ...                    ...\n",
      "995   18       1  155.588674  64.103182  26.480345                      4\n",
      "996   35       0  165.076490  97.639771  35.830783                      1\n",
      "997   49       0  156.570956  78.804284  32.146036                      1\n",
      "998   64       1  164.192222  57.978115  21.505965                      4\n",
      "999   66       0  178.537130  74.962164  23.517168                      1\n",
      "\n",
      "[1000 rows x 6 columns]\n"
     ]
    }
   ],
   "source": [
    "print(X)"
   ]
  },
  {
   "cell_type": "code",
   "execution_count": 90,
   "id": "ebd16faf",
   "metadata": {
    "scrolled": true
   },
   "outputs": [
    {
     "name": "stdout",
     "output_type": "stream",
     "text": [
      "0      0\n",
      "1      1\n",
      "2      2\n",
      "3      2\n",
      "4      0\n",
      "      ..\n",
      "995    2\n",
      "996    1\n",
      "997    1\n",
      "998    0\n",
      "999    0\n",
      "Name: ObesityCategory, Length: 1000, dtype: int64\n",
      "0    371\n",
      "2    295\n",
      "1    191\n",
      "3    143\n",
      "Name: ObesityCategory, dtype: int64\n"
     ]
    }
   ],
   "source": [
    "print(Y)\n",
    "label_encode = {\"ObesityCategory\": {\"Normal weight\":0,\"Obese\":1,\"Overweight\":2,\"Underweight\":3}}\n",
    "obesity_prediction.replace(label_encode,inplace=True)\n",
    "print(obesity_prediction['ObesityCategory'].value_counts())"
   ]
  },
  {
   "cell_type": "code",
   "execution_count": 91,
   "id": "b7e462de",
   "metadata": {},
   "outputs": [],
   "source": [
    "X_train, X_test, Y_train, Y_test = train_test_split(X,Y, test_size = 0.2, stratify=Y, random_state=2)"
   ]
  },
  {
   "cell_type": "code",
   "execution_count": 92,
   "id": "ba04bfec",
   "metadata": {},
   "outputs": [
    {
     "name": "stdout",
     "output_type": "stream",
     "text": [
      "(1000, 6) (800, 6) (200, 6)\n"
     ]
    }
   ],
   "source": [
    "print(X.shape, X_train.shape, X_test.shape)"
   ]
  },
  {
   "cell_type": "code",
   "execution_count": 93,
   "id": "df8286d8",
   "metadata": {},
   "outputs": [],
   "source": [
    "classifier = svm.SVC(kernel='linear')"
   ]
  },
  {
   "cell_type": "code",
   "execution_count": 94,
   "id": "6a8a1f5a",
   "metadata": {},
   "outputs": [
    {
     "name": "stdout",
     "output_type": "stream",
     "text": [
      "1    523\n",
      "0    477\n",
      "Name: Gender, dtype: int64\n"
     ]
    }
   ],
   "source": [
    "label_encode = {\"Gender\": {\"Male\":1,\"Female\":0}}\n",
    "obesity_prediction.replace(label_encode,inplace=True)\n",
    "print(obesity_prediction['Gender'].value_counts())"
   ]
  },
  {
   "cell_type": "code",
   "execution_count": 95,
   "id": "0e9b36b8",
   "metadata": {},
   "outputs": [
    {
     "data": {
      "text/plain": [
       "SVC(kernel='linear')"
      ]
     },
     "execution_count": 95,
     "metadata": {},
     "output_type": "execute_result"
    }
   ],
   "source": [
    "classifier.fit(X_train, Y_train)"
   ]
  },
  {
   "cell_type": "code",
   "execution_count": 96,
   "id": "558a2fda",
   "metadata": {},
   "outputs": [],
   "source": [
    "X_train_prediction = classifier.predict(X_train)\n",
    "training_data_accuracy = accuracy_score(X_train_prediction, Y_train)"
   ]
  },
  {
   "cell_type": "code",
   "execution_count": 97,
   "id": "652f998a",
   "metadata": {},
   "outputs": [
    {
     "name": "stdout",
     "output_type": "stream",
     "text": [
      "Accuracy score of the training data :  0.98875\n"
     ]
    }
   ],
   "source": [
    "print('Accuracy score of the training data : ', training_data_accuracy)"
   ]
  },
  {
   "cell_type": "code",
   "execution_count": 98,
   "id": "b3685b09",
   "metadata": {},
   "outputs": [],
   "source": [
    "X_test_prediction = classifier.predict(X_test)\n",
    "test_data_accuracy = accuracy_score(X_test_prediction, Y_test)"
   ]
  },
  {
   "cell_type": "code",
   "execution_count": 99,
   "id": "f2c9b9b8",
   "metadata": {},
   "outputs": [
    {
     "name": "stdout",
     "output_type": "stream",
     "text": [
      "Accuracy score of the test data :  0.99\n"
     ]
    }
   ],
   "source": [
    "print('Accuracy score of the test data : ', test_data_accuracy)"
   ]
  },
  {
   "cell_type": "code",
   "execution_count": 100,
   "id": "65c81e8b",
   "metadata": {},
   "outputs": [
    {
     "name": "stdout",
     "output_type": "stream",
     "text": [
      "The person is Normal weight\n"
     ]
    },
    {
     "name": "stderr",
     "output_type": "stream",
     "text": [
      "C:\\Users\\Smart AI Labs\\anaconda3\\lib\\site-packages\\sklearn\\base.py:450: UserWarning: X does not have valid feature names, but SVC was fitted with feature names\n",
      "  warnings.warn(\n"
     ]
    }
   ],
   "source": [
    "input_data = (57,0,150.9548792813483,51.92494718351459,22.786716708051546,3)\n",
    "\n",
    "\n",
    "input_data_as_numpy_array = np.asarray(input_data)\n",
    "\n",
    "\n",
    "input_data_reshaped = input_data_as_numpy_array.reshape(1,-1)\n",
    "\n",
    "prediction = classifier.predict(input_data_reshaped)\n",
    "\n",
    "\n",
    "if (prediction[0] == 0):\n",
    "  print('The person is Normal weight')\n",
    "elif (prediction[0] == 1):\n",
    "  print('The person is Obese')\n",
    "elif (prediction[0] == 2):\n",
    "  print('The person is Overweight')\n",
    "else:\n",
    "  print('The person is Underweight')"
   ]
  },
  {
   "cell_type": "code",
   "execution_count": 101,
   "id": "b64cdbf7",
   "metadata": {},
   "outputs": [],
   "source": [
    "import pickle"
   ]
  },
  {
   "cell_type": "code",
   "execution_count": 102,
   "id": "413e1b6e",
   "metadata": {},
   "outputs": [],
   "source": [
    "filename = 'trained_model.sav'\n",
    "pickle.dump(classifier, open(filename, 'wb'))"
   ]
  },
  {
   "cell_type": "code",
   "execution_count": 103,
   "id": "55582fad",
   "metadata": {},
   "outputs": [],
   "source": [
    "loaded_model = pickle.load(open('trained_model.sav', 'rb'))"
   ]
  },
  {
   "cell_type": "code",
   "execution_count": null,
   "id": "15f6c0e7",
   "metadata": {},
   "outputs": [],
   "source": []
  }
 ],
 "metadata": {
  "kernelspec": {
   "display_name": "Python 3 (ipykernel)",
   "language": "python",
   "name": "python3"
  },
  "language_info": {
   "codemirror_mode": {
    "name": "ipython",
    "version": 3
   },
   "file_extension": ".py",
   "mimetype": "text/x-python",
   "name": "python",
   "nbconvert_exporter": "python",
   "pygments_lexer": "ipython3",
   "version": "3.9.12"
  }
 },
 "nbformat": 4,
 "nbformat_minor": 5
}
